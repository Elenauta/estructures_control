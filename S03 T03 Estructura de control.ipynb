{
 "cells": [
  {
   "cell_type": "markdown",
   "id": "626cc294",
   "metadata": {},
   "source": [
    "Comencem a familiaritzar-nos amb les estructures de control de Python\n",
    "\n"
   ]
  },
  {
   "cell_type": "markdown",
   "id": "30ff924a",
   "metadata": {},
   "source": [
    " ### Nivell 1 ⭐️"
   ]
  },
  {
   "cell_type": "markdown",
   "id": "a12008d7",
   "metadata": {},
   "source": [
    "## Exercici 1 "
   ]
  },
  {
   "cell_type": "markdown",
   "id": "ed7312c0",
   "metadata": {},
   "source": [
    "L'exercici consisteix a crear un programa que et classifiqui una variable numèrica en funció de l’escala Suspès/Aprovat/Notable/Excel·lent.\n",
    "\n"
   ]
  },
  {
   "cell_type": "code",
   "execution_count": 15,
   "id": "3dc71fdc",
   "metadata": {},
   "outputs": [
    {
     "name": "stdout",
     "output_type": "stream",
     "text": [
      "introdueix una nota: 4\n",
      "Suspès\n"
     ]
    }
   ],
   "source": [
    "nota = float(input(\"introdueix una nota: \"))\n",
    "\n",
    "if nota >= 9:\n",
    "    print(\"Excel.lent\")\n",
    "elif nota >= 7:\n",
    "    print(\"Notable\")\n",
    "elif nota >= 5:\n",
    "    print(\"Aprovat\")\n",
    "else: \n",
    "    print(\"Suspès\")"
   ]
  },
  {
   "cell_type": "markdown",
   "id": "67fec003",
   "metadata": {},
   "source": [
    "## Exercici 2 "
   ]
  },
  {
   "cell_type": "markdown",
   "id": "8755ef54",
   "metadata": {},
   "source": [
    "Utilitzant el següent tutorial Programiz: Python Input, Output and Import crea un programa que et pregunti dos números. T’ha de mostrar un missatge dient si el primer és més gran, el segon és més gran o són iguals.\n"
   ]
  },
  {
   "cell_type": "code",
   "execution_count": 16,
   "id": "1a418815",
   "metadata": {},
   "outputs": [
    {
     "name": "stdout",
     "output_type": "stream",
     "text": [
      "Escriu un número: 7\n",
      "Escriu ne un altre: 2\n",
      "el primer número, 7 , és mes gran que el segon,  2\n"
     ]
    }
   ],
   "source": [
    "num1 = int(input(\"Escriu un número: \"))\n",
    "num2 = int(input(\"Escriu ne un altre: \"))\n",
    "if num1 > num2:\n",
    "         print(\"el primer número,\", num1, \", és mes gran que el segon, \", num2)\n",
    "elif num1 < num2:\n",
    "         print(\"el segón número,\", num2, \", és mes gran que el primer, \", num1)\n",
    "else:\n",
    "         print(\"els dos números són iguals\")"
   ]
  },
  {
   "cell_type": "markdown",
   "id": "2d2e4cca",
   "metadata": {},
   "source": [
    "## Exercici 3"
   ]
  },
  {
   "cell_type": "markdown",
   "id": "865fa284",
   "metadata": {},
   "source": [
    "Crea un programa que et pregunti el teu nom, i et demani un número. Si el número és 0, hauria de mostrar un missatge d’error. En cas contrari, hauria de mostrar el nom repetit tants cops com indiqui el número. Per exemple, “Joan Joan Joan”.\n",
    "\n",
    "\n"
   ]
  },
  {
   "cell_type": "code",
   "execution_count": 17,
   "id": "626cbe4e",
   "metadata": {},
   "outputs": [
    {
     "name": "stdout",
     "output_type": "stream",
     "text": [
      "¿Com et dius?: Elena\n",
      "Escriu un número: 6\n",
      "ElenaElenaElenaElenaElenaElena\n"
     ]
    }
   ],
   "source": [
    "nom = input(\"¿Com et dius?: \")\n",
    "num = int(input(\"Escriu un número: \"))\n",
    "if num == 0:\n",
    "    print(\"Error. El número ha de ser diferent a 0.\")\n",
    "else:\n",
    "    print(nom * num)"
   ]
  },
  {
   "cell_type": "markdown",
   "id": "37df7ec7",
   "metadata": {},
   "source": [
    "## Exercici 4"
   ]
  },
  {
   "cell_type": "markdown",
   "id": "52d34dab",
   "metadata": {},
   "source": [
    "Crea un programa que donada una llista qualsevol, et digui si es simètrica o no. Si ho és, que et digui quants elements té.\n",
    "\n"
   ]
  },
  {
   "cell_type": "code",
   "execution_count": 101,
   "id": "a6fbf4df",
   "metadata": {},
   "outputs": [
    {
     "name": "stdout",
     "output_type": "stream",
     "text": [
      "symmetrical list number of elements:  7\n"
     ]
    }
   ],
   "source": [
    "list = [1, 2, 3, 4, 3, 2, 1]\n",
    "\n",
    "if list.reverse() == list:\n",
    "    print(\"the list is not symmetrical\")\n",
    "else:\n",
    "    print(\"number of elements: \", len(list))\n"
   ]
  },
  {
   "cell_type": "markdown",
   "id": "9f7824e8",
   "metadata": {},
   "source": [
    "## Exercici 5"
   ]
  },
  {
   "cell_type": "markdown",
   "id": "7738882c",
   "metadata": {},
   "source": [
    "Crea un programa que donada una llista, et digui quants números coincideixen amb la seva posició. Per exemple [3,4,2,0,2,3,6] el 2 i el 6 coincideixen.\n",
    "\n"
   ]
  },
  {
   "cell_type": "code",
   "execution_count": 74,
   "id": "fa8a2a7b",
   "metadata": {},
   "outputs": [
    {
     "name": "stdout",
     "output_type": "stream",
     "text": [
      "0\n",
      "4\n",
      "5\n"
     ]
    }
   ],
   "source": [
    "i = 0\n",
    "def coincidencia(list):\n",
    "    for i in list:\n",
    "        if i == list.index(i):\n",
    "            print(i)\n",
    "coincidencia([0, 2, 2, 7, 4, 5])            "
   ]
  },
  {
   "cell_type": "markdown",
   "id": "4f692238",
   "metadata": {},
   "source": [
    "______"
   ]
  },
  {
   "cell_type": "markdown",
   "id": "75ff101f",
   "metadata": {},
   "source": [
    "#### Objectius\n",
    "\n",
    "- condicionals i bucles\n",
    "- if/else/elif \n",
    "- Funcions\n"
   ]
  },
  {
   "cell_type": "markdown",
   "id": "3b3de7ef",
   "metadata": {},
   "source": [
    "#### Durada\n",
    "3 dies\n"
   ]
  },
  {
   "cell_type": "markdown",
   "id": "5fdabfbb",
   "metadata": {},
   "source": [
    "#### Lliurament"
   ]
  },
  {
   "cell_type": "markdown",
   "id": "7ecb1ee6",
   "metadata": {},
   "source": [
    "Enviar la URL a un repositori anomenat __estructures_control__ que contingui la solució. S'ha d'entregar cada Excercici en un mateix fitxer i en un repositori."
   ]
  }
 ],
 "metadata": {
  "kernelspec": {
   "display_name": "Python 3",
   "language": "python",
   "name": "python3"
  },
  "language_info": {
   "codemirror_mode": {
    "name": "ipython",
    "version": 3
   },
   "file_extension": ".py",
   "mimetype": "text/x-python",
   "name": "python",
   "nbconvert_exporter": "python",
   "pygments_lexer": "ipython3",
   "version": "3.8.8"
  }
 },
 "nbformat": 4,
 "nbformat_minor": 5
}
